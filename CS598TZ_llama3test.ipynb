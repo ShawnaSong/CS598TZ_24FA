{
 "cells": [
  {
   "cell_type": "code",
   "execution_count": 97,
   "metadata": {
    "colab": {
     "base_uri": "https://localhost:8080/"
    },
    "id": "fKNgwX63yurb",
    "outputId": "89319ef1-7bcc-4427-cade-ec52b70412c2"
   },
   "outputs": [],
   "source": [
    "import os\n",
    "from openai import OpenAI\n",
    "import time\n",
    "import json\n",
    "from bigbench.api import json_task\n",
    "from tqdm import tqdm\n",
    "import random\n",
    "\n",
    "# Set up OpenAI client using environment variable for API key\n",
    "client = OpenAI(\n",
    "    api_key = 'LA-b66744d449e94d7db2496843d9044308604a57fc8a0b42019c2ddac89ef8052d',\n",
    "    base_url=\"https://api.llama-api.com\"\n",
    ")\n",
    "\n",
    "# Different scales of LLaMA model variants to evaluate\n",
    "model_variants = [\n",
    "    'llama3.2-90b-vision',\n",
    "    'llama3.2-11b-vision',\n",
    "    'llama3.2-3b',\n",
    "    'llama3.2-1b',\n",
    "    'mixtral-8x22b-instruct',\n",
    "    'mixtral-8x7b-instruct',\n",
    "    'mistral-7b-instruct',\n",
    "]\n",
    "\n",
    "# Function to evaluate a specific model on the BIG-bench dataset\n",
    "def evaluate_model(model_name, dataset, num_exp=50):\n",
    "    # print(f\"Evaluating model: {model_name}\")\n",
    "    results = []\n",
    "    if 'examples' not in dataset:\n",
    "        raise KeyError(\"The dataset does not contain the expected 'examples' key.\")\n",
    "    examples = random.sample(dataset['examples'], min(num_exp, len(dataset['examples'])))\n",
    "    for example in tqdm(examples, desc=f\"{dataset['name']}\"):\n",
    "        prompt = example['input']\n",
    "        target = example['target']\n",
    "\n",
    "        retry_count = 0\n",
    "        while retry_count < 3:\n",
    "            try:\n",
    "                # Generate response using OpenAI client\n",
    "                response = client.chat.completions.create(\n",
    "                    model=model_name,\n",
    "                    messages=[\n",
    "                        {\n",
    "                            \"role\": \"system\",\n",
    "                            \"content\": \"Assistant is a large language model trained by OpenAI.\"\n",
    "                        },\n",
    "                        {\n",
    "                            \"role\": \"user\",\n",
    "                            \"content\": prompt,\n",
    "                        }\n",
    "                    ]\n",
    "                )\n",
    "                # print(response)\n",
    "                try: \n",
    "                    generated_text = response.choices[0].message.content.strip()\n",
    "                except:\n",
    "                    generated_text = response[0]['message']['content'].strip() if isinstance(response, list) else response['choices'][0]['message']['content'].strip()\n",
    "                # Store prompt, generated response, and target for analysis\n",
    "                results.append({\n",
    "                    'prompt': prompt,\n",
    "                    'generated_text': generated_text,\n",
    "                    'target': target\n",
    "                })\n",
    "                break\n",
    "            except Exception as e:\n",
    "                print(f\"Error occurred for model {model_name}: {e}\")\n",
    "                retry_count += 1\n",
    "                time.sleep(2)  # Wait before retrying\n",
    "                if retry_count == 3:\n",
    "                    print(f\"Failed to get response after 3 attempts for prompt: {prompt}\")\n",
    "    return results"
   ]
  },
  {
   "cell_type": "markdown",
   "metadata": {},
   "source": [
    "### Testing on simple_arithmetic"
   ]
  },
  {
   "cell_type": "code",
   "execution_count": null,
   "metadata": {
    "colab": {
     "base_uri": "https://localhost:8080/",
     "height": 769,
     "referenced_widgets": [
      "4608ff76b8294c8aa1747a4385becf42",
      "c3dea8ab4f4540d28e50fd7ec489ee0a",
      "8275678891744552b7917b8cce0d58e3",
      "ac8f0f9253eb4844aa7a00ca40f76c75",
      "1a14c026523f4e6ba7b91135fe43b0b1",
      "5a65c84ad06f411a8fb0325ce8e83256",
      "90b72b6fbbd24b0da903aa523a2a11aa",
      "9be81528f8d945a5abdc01e1e2ba0d28",
      "6091956ed9af444f8f2231ccbb7f5451",
      "2e1173b585f54b59a024d9c47fd30e38",
      "313b49e087114566ab658774b05cba8d",
      "9c7ad4e07a3e4702ad5e1b57d0043fbc",
      "5cbf008c7505444e923d94ff27152af8",
      "cc43de1f58b94635af481ff686c7b738",
      "da8881982cfd4bf3b2944760812ca1f2",
      "6090fe228045484e8c3d11fca882ec15",
      "da3e5bb8576a4611b91b6a49c11ddc8e",
      "476e4c21aa3f460199b31c76e02e8524",
      "cf985524bd95426ab65a1031249e7c97",
      "9c4e87551fe641abbf7314e3a6a81863",
      "53f1391cefcf4da28e3a95206cfa4e59",
      "f0b2eeecdb2a48d6943cabac50db434d"
     ]
    },
    "id": "-NbEqXUvy7BT",
    "outputId": "ad0cd7fd-c5ea-4b6f-c9df-ea47209178d1"
   },
   "outputs": [
    {
     "name": "stdout",
     "output_type": "stream",
     "text": [
      "Evaluating model: llama3.2-90b-vision\n",
      "Evaluating model: llama3.2-11b-vision\n",
      "Evaluating model: llama3.2-3b\n",
      "Evaluating model: llama3.2-1b\n",
      "Evaluating model: mixtral-8x22b-instruct\n",
      "Evaluating model: mixtral-8x7b-instruct\n",
      "Evaluating model: mistral-7b-instruct\n"
     ]
    }
   ],
   "source": [
    "# Load BIG-bench dataset - replace 'path/to/BIG-bench' with actual path to the JSON file\n",
    "json_path = '/Users/shawna_song/Desktop/598tz_proj/BIG-bench/bigbench/benchmark_tasks/simple_arithmetic_json/task.json'\n",
    "\n",
    "if not os.path.exists(json_path):\n",
    "    raise FileNotFoundError(f\"The specified path does not exist: {json_path}\")\n",
    "\n",
    "with open(json_path, 'r') as f:\n",
    "    bigbench_dataset = json.load(f)\n",
    "\n",
    "# Function to evaluate a specific model on the BIG-bench dataset\n",
    "def evaluate_model(model_name, dataset):\n",
    "    print(f\"Evaluating model: {model_name}\")\n",
    "    results = []\n",
    "\n",
    "    if 'examples' not in dataset:\n",
    "        raise KeyError(\"The dataset does not contain the expected 'examples' key.\")\n",
    "\n",
    "    for example in dataset['examples']:\n",
    "        prompt = example['input']\n",
    "        target = example['target']\n",
    "\n",
    "        retry_count = 0\n",
    "        while retry_count < 3:\n",
    "            try:\n",
    "                # Generate response using OpenAI client\n",
    "                response = client.chat.completions.create(\n",
    "                    model=model_name,\n",
    "                    messages=[\n",
    "                        {\n",
    "                            \"role\": \"system\",\n",
    "                            \"content\": \"Assistant is a large language model trained by OpenAI.\"\n",
    "                        },\n",
    "                        {\n",
    "                            \"role\": \"user\",\n",
    "                            \"content\": prompt,\n",
    "                        }\n",
    "                    ]\n",
    "                )\n",
    "                # print(response.choices[0])\n",
    "                try: \n",
    "                    generated_text = response.choices[0].message.content.strip()\n",
    "                except:\n",
    "                    generated_text = response[0]['message']['content'].strip() if isinstance(response, list) else response['choices'][0]['message']['content'].strip()\n",
    "                # Store prompt, generated response, and target for analysis\n",
    "                results.append({\n",
    "                    'prompt': prompt,\n",
    "                    'generated_text': generated_text,\n",
    "                    'target': target\n",
    "                })\n",
    "                break\n",
    "            except Exception as e:\n",
    "                print(f\"Error occurred for model {model_name}: {e}\")\n",
    "                retry_count += 1\n",
    "                time.sleep(2)  # Wait before retrying\n",
    "                if retry_count == 3:\n",
    "                    print(f\"Failed to get response after 3 attempts for prompt: {prompt}\")\n",
    "    return results\n",
    "\n",
    "# Evaluate each model variant and store results\n",
    "all_results = {}\n",
    "for model in model_variants:\n",
    "    all_results[model] = evaluate_model(model, bigbench_dataset)\n",
    "\n",
    "# # Print the results for analysis\n",
    "# for model, results in all_results.items():\n",
    "#     print(f\"\\nResults for {model}:\")\n",
    "#     for result in results:\n",
    "#         print(f\"Prompt: {result['prompt']}\")\n",
    "#         print(f\"Generated: {result['generated_text']}\")\n",
    "#         print(f\"Target: {result['target']}\\n\")"
   ]
  },
  {
   "cell_type": "code",
   "execution_count": 38,
   "metadata": {},
   "outputs": [
    {
     "name": "stdout",
     "output_type": "stream",
     "text": [
      "Accuracy for llama3.2-90b-vision: 100.00%\n",
      "Accuracy for llama3.2-11b-vision: 100.00%\n",
      "Accuracy for llama3.2-3b: 90.00%\n",
      "Accuracy for llama3.2-1b: 90.00%\n",
      "Accuracy for mixtral-8x22b-instruct: 100.00%\n",
      "Accuracy for mixtral-8x7b-instruct: 100.00%\n",
      "Accuracy for mistral-7b-instruct: 96.67%\n"
     ]
    }
   ],
   "source": [
    "# Function to calculate accuracy of the model\n",
    "def calculate_accuracy(results):\n",
    "    correct_count = 0\n",
    "    total_count = len(results)\n",
    "\n",
    "    for result in results:\n",
    "        # if result['prompt'] + \" \" + result['target'] in result['generated_text']:\n",
    "        #     correct_count += 1\n",
    "        # elif result['target'] == result['generated_text']:\n",
    "        #     correct_count += 1\n",
    "        if result['target'] in result['generated_text']:\n",
    "            correct_count += 1\n",
    "\n",
    "    accuracy = (correct_count / total_count) * 100 if total_count > 0 else 0\n",
    "    return accuracy\n",
    "\n",
    "# Calculate and print accuracy for each model\n",
    "for model, results in all_results.items():\n",
    "    accuracy = calculate_accuracy(results)\n",
    "    print(f\"Accuracy for {model}: {accuracy:.2f}%\")\n"
   ]
  },
  {
   "cell_type": "markdown",
   "metadata": {},
   "source": [
    "### Testing on modified_arithmetic"
   ]
  },
  {
   "cell_type": "code",
   "execution_count": null,
   "metadata": {},
   "outputs": [],
   "source": [
    "model_variants = [\n",
    "    'llama3.2-90b-vision',\n",
    "    'llama3.2-11b-vision',\n",
    "    'llama3.2-3b',\n",
    "    'llama3.2-1b',\n",
    "    # 'mixtral-8x22b-instruct',\n",
    "    # 'mixtral-8x7b-instruct',\n",
    "    # 'mistral-7b-instruct',\n",
    "    # 'llama3.1-405b',\n",
    "    # 'llama3.1-70b',\n",
    "    # 'llama3.1-8b\n",
    "]"
   ]
  },
  {
   "cell_type": "code",
   "execution_count": null,
   "metadata": {},
   "outputs": [
    {
     "name": "stdout",
     "output_type": "stream",
     "text": [
      "Evaluating model: llama3.2-90b-vision\n"
     ]
    },
    {
     "name": "stderr",
     "output_type": "stream",
     "text": [
      "three_digit_addition_plus_one: 100%|██████████| 50/50 [01:56<00:00,  2.33s/it]\n",
      "three_digit_addition_control: 100%|██████████| 50/50 [01:45<00:00,  2.11s/it]\n",
      "two_digit_multiplication_plus_one: 100%|██████████| 50/50 [03:33<00:00,  4.27s/it]\n",
      "three_digit_subtraction_plus_one: 100%|██████████| 50/50 [03:33<00:00,  4.28s/it]\n",
      "two_digit_multiplication_control:  10%|█         | 5/50 [00:20<02:52,  3.84s/it]"
     ]
    },
    {
     "name": "stdout",
     "output_type": "stream",
     "text": [
      "Error occurred for model llama3.2-90b-vision: 'ChatCompletion' object is not subscriptable\n"
     ]
    },
    {
     "name": "stderr",
     "output_type": "stream",
     "text": [
      "two_digit_multiplication_control:  22%|██▏       | 11/50 [01:00<03:57,  6.10s/it]"
     ]
    },
    {
     "name": "stdout",
     "output_type": "stream",
     "text": [
      "Error occurred for model llama3.2-90b-vision: 'ChatCompletion' object is not subscriptable\n",
      "Error occurred for model llama3.2-90b-vision: 'ChatCompletion' object is not subscriptable\n"
     ]
    },
    {
     "name": "stderr",
     "output_type": "stream",
     "text": [
      "two_digit_multiplication_control:  28%|██▊       | 14/50 [01:47<06:23, 10.64s/it]"
     ]
    },
    {
     "name": "stdout",
     "output_type": "stream",
     "text": [
      "Error occurred for model llama3.2-90b-vision: 'ChatCompletion' object is not subscriptable\n"
     ]
    },
    {
     "name": "stderr",
     "output_type": "stream",
     "text": [
      "two_digit_multiplication_control:  34%|███▍      | 17/50 [02:23<05:35, 10.15s/it]"
     ]
    },
    {
     "name": "stdout",
     "output_type": "stream",
     "text": [
      "Error occurred for model llama3.2-90b-vision: 'ChatCompletion' object is not subscriptable\n"
     ]
    },
    {
     "name": "stderr",
     "output_type": "stream",
     "text": [
      "two_digit_multiplication_control:  36%|███▌      | 18/50 [02:42<06:55, 12.98s/it]"
     ]
    },
    {
     "name": "stdout",
     "output_type": "stream",
     "text": [
      "Error occurred for model llama3.2-90b-vision: 'ChatCompletion' object is not subscriptable\n"
     ]
    },
    {
     "name": "stderr",
     "output_type": "stream",
     "text": [
      "two_digit_multiplication_control: 100%|██████████| 50/50 [04:50<00:00,  5.81s/it]\n",
      "three_digit_subtraction_control: 100%|██████████| 50/50 [02:03<00:00,  2.47s/it]\n"
     ]
    },
    {
     "name": "stdout",
     "output_type": "stream",
     "text": [
      "Evaluating model: llama3.2-11b-vision\n"
     ]
    },
    {
     "name": "stderr",
     "output_type": "stream",
     "text": [
      "three_digit_addition_plus_one: 100%|██████████| 50/50 [02:02<00:00,  2.45s/it]\n",
      "three_digit_addition_control: 100%|██████████| 50/50 [01:24<00:00,  1.70s/it]\n",
      "two_digit_multiplication_plus_one: 100%|██████████| 50/50 [01:48<00:00,  2.16s/it]\n",
      "three_digit_subtraction_plus_one: 100%|██████████| 50/50 [01:27<00:00,  1.75s/it]\n",
      "two_digit_multiplication_control: 100%|██████████| 50/50 [01:33<00:00,  1.87s/it]\n",
      "three_digit_subtraction_control: 100%|██████████| 50/50 [01:23<00:00,  1.67s/it]\n"
     ]
    },
    {
     "name": "stdout",
     "output_type": "stream",
     "text": [
      "Evaluating model: llama3.2-3b\n"
     ]
    },
    {
     "name": "stderr",
     "output_type": "stream",
     "text": [
      "three_digit_addition_plus_one: 100%|██████████| 50/50 [01:22<00:00,  1.64s/it]\n",
      "three_digit_addition_control: 100%|██████████| 50/50 [01:40<00:00,  2.02s/it]\n",
      "two_digit_multiplication_plus_one: 100%|██████████| 50/50 [01:36<00:00,  1.92s/it]\n",
      "three_digit_subtraction_plus_one:  86%|████████▌ | 43/50 [02:08<00:31,  4.46s/it]"
     ]
    },
    {
     "name": "stdout",
     "output_type": "stream",
     "text": [
      "Error occurred for model llama3.2-3b: 'ChatCompletion' object is not subscriptable\n"
     ]
    },
    {
     "name": "stderr",
     "output_type": "stream",
     "text": [
      "three_digit_subtraction_plus_one: 100%|██████████| 50/50 [02:38<00:00,  3.17s/it]\n",
      "two_digit_multiplication_control: 100%|██████████| 50/50 [01:27<00:00,  1.76s/it]\n",
      "three_digit_subtraction_control: 100%|██████████| 50/50 [01:13<00:00,  1.48s/it]\n"
     ]
    },
    {
     "name": "stdout",
     "output_type": "stream",
     "text": [
      "Evaluating model: llama3.2-1b\n"
     ]
    },
    {
     "name": "stderr",
     "output_type": "stream",
     "text": [
      "three_digit_addition_plus_one: 100%|██████████| 50/50 [01:07<00:00,  1.34s/it]\n",
      "three_digit_addition_control: 100%|██████████| 50/50 [01:19<00:00,  1.59s/it]\n",
      "two_digit_multiplication_plus_one: 100%|██████████| 50/50 [01:24<00:00,  1.69s/it]\n",
      "three_digit_subtraction_plus_one: 100%|██████████| 50/50 [01:00<00:00,  1.21s/it]\n",
      "two_digit_multiplication_control: 100%|██████████| 50/50 [01:18<00:00,  1.57s/it]\n",
      "three_digit_subtraction_control: 100%|██████████| 50/50 [01:03<00:00,  1.28s/it]\n"
     ]
    }
   ],
   "source": [
    "# Function to evaluate a specific model on the BIG-bench dataset\n",
    "def evaluate_model(model_name, dataset, num_exp=50):\n",
    "    # print(f\"Evaluating model: {model_name}\")\n",
    "    results = []\n",
    "    if 'examples' not in dataset:\n",
    "        raise KeyError(\"The dataset does not contain the expected 'examples' key.\")\n",
    "    examples = random.sample(dataset['examples'], min(num_exp, len(dataset['examples'])))\n",
    "    for example in tqdm(examples, desc=f\"{dataset['name']}\"):\n",
    "        prompt = example['input']\n",
    "        target = example['target']\n",
    "\n",
    "        retry_count = 0\n",
    "        while retry_count < 3:\n",
    "            try:\n",
    "                # Generate response using OpenAI client\n",
    "                response = client.chat.completions.create(\n",
    "                    model=model_name,\n",
    "                    messages=[\n",
    "                        {\n",
    "                            \"role\": \"system\",\n",
    "                            \"content\": \"Assistant is a large language model trained by OpenAI.\"\n",
    "                        },\n",
    "                        {\n",
    "                            \"role\": \"user\",\n",
    "                            \"content\": prompt,\n",
    "                        }\n",
    "                    ]\n",
    "                )\n",
    "                # print(response)\n",
    "                try: \n",
    "                    generated_text = response.choices[0].message.content.strip()\n",
    "                except:\n",
    "                    generated_text = response[0]['message']['content'].strip() if isinstance(response, list) else response['choices'][0]['message']['content'].strip()\n",
    "                # Store prompt, generated response, and target for analysis\n",
    "                results.append({\n",
    "                    'prompt': prompt,\n",
    "                    'generated_text': generated_text,\n",
    "                    'target': target\n",
    "                })\n",
    "                break\n",
    "            except Exception as e:\n",
    "                print(f\"Error occurred for model {model_name}: {e}\")\n",
    "                retry_count += 1\n",
    "                time.sleep(2)  # Wait before retrying\n",
    "                if retry_count == 3:\n",
    "                    print(f\"Failed to get response after 3 attempts for prompt: {prompt}\")\n",
    "    return results\n",
    "\n",
    "base_path = '/Users/shawna_song/Desktop/598tz_proj/BIG-bench/bigbench/benchmark_tasks/modified_arithmetic'\n",
    "\n",
    "all_results = {}\n",
    "for model in model_variants:\n",
    "    print(f\"Evaluating model: {model}\")\n",
    "    all_results[model] = []\n",
    "    for task_name in os.listdir(base_path):\n",
    "        task_path = os.path.join(base_path, task_name)\n",
    "        task_json_path = os.path.join(task_path, 'task.json')\n",
    "\n",
    "        if os.path.isdir(task_path) and os.path.exists(task_json_path):\n",
    "            with open(task_json_path, 'r') as f:\n",
    "                bigbench_dataset = json.load(f)\n",
    "            # print(f\"Dataset structure for {task_name}:\", json.dumps(bigbench_dataset, indent=2))\n",
    "            # Evaluate each model variant and store results\n",
    "            all_results[model] += evaluate_model(model, bigbench_dataset)\n",
    "\n",
    "# Print the results for analysis\n",
    "# for model, results in all_results.items():\n",
    "#     print(f\"\\nResults for {model}:\")\n",
    "#     for result in results:\n",
    "#         print(f\"Prompt: {result['prompt']}\")\n",
    "#         print(f\"Generated: {result['generated_text']}\")\n",
    "#         print(f\"Target: {result['target']}\\n\")"
   ]
  },
  {
   "cell_type": "code",
   "execution_count": 82,
   "metadata": {},
   "outputs": [
    {
     "name": "stdout",
     "output_type": "stream",
     "text": [
      "Accuracy for llama3.2-90b-vision: 39.00%\n",
      "Accuracy for llama3.2-11b-vision: 30.33%\n",
      "Accuracy for llama3.2-3b: 28.00%\n",
      "Accuracy for llama3.2-1b: 28.67%\n"
     ]
    }
   ],
   "source": [
    "def calculate_accuracy(results):\n",
    "    correct_count = 0\n",
    "    total_count = len(results)\n",
    "\n",
    "    for result in results:\n",
    "        # if result['prompt'] + \" \" + result['target'] in result['generated_text']:\n",
    "        #     correct_count += 1\n",
    "        # elif result['target'] == result['generated_text']:\n",
    "        #     correct_count += 1\n",
    "        if result['target'] in result['generated_text']:\n",
    "            correct_count += 1\n",
    "\n",
    "    accuracy = (correct_count / total_count) * 100 if total_count > 0 else 0\n",
    "    return accuracy\n",
    "\n",
    "# Calculate and print accuracy for each model\n",
    "for model, results in all_results.items():\n",
    "    accuracy = calculate_accuracy(results)\n",
    "    print(f\"Accuracy for {model}: {accuracy:.2f}%\")"
   ]
  },
  {
   "cell_type": "code",
   "execution_count": 30,
   "metadata": {},
   "outputs": [
    {
     "data": {
      "image/png": "[encoded data removed]",
      "text/plain": [
       "<Figure size 640x480 with 1 Axes>"
      ]
     },
     "metadata": {},
     "output_type": "display_data"
    }
   ],
   "source": [
    "import matplotlib.pyplot as plt\n",
    "import numpy as np\n",
    "from matplotlib.ticker import LogFormatter, LogLocator\n",
    "\n",
    "x = np.array([1, 3, 11, 90]) \n",
    "y = [0.2867, 0.28, 0.3033, 0.39]\n",
    "\n",
    "plt.plot(x, y, marker='o', linestyle='-', label='Modified Arithmetic')\n",
    "plt.xscale('log')\n",
    "plt.gca().xaxis.set_major_formatter(LogFormatter(base=10.0, labelOnlyBase=True))\n",
    "plt.gca().xaxis.set_minor_locator(LogLocator(base=10.0, subs=np.arange(2, 10) * 0.1, numticks=10))\n",
    "plt.title(\"Modified Arithmetic\")\n",
    "plt.xlabel(\"Parameter (billion)\")\n",
    "plt.ylabel(\"Accuracy\")\n",
    "plt.show()\n"
   ]
  },
  {
   "cell_type": "markdown",
   "metadata": {},
   "source": [
    "### Testing on international_phonetic_alphabet_transliterate"
   ]
  },
  {
   "cell_type": "code",
   "execution_count": 83,
   "metadata": {},
   "outputs": [
    {
     "name": "stdout",
     "output_type": "stream",
     "text": [
      "Evaluating model: llama3.2-90b-vision\n"
     ]
    },
    {
     "name": "stderr",
     "output_type": "stream",
     "text": [
      "international_phonetic_alphabet_transliterate: 100%|██████████| 50/50 [02:02<00:00,  2.46s/it]\n"
     ]
    },
    {
     "name": "stdout",
     "output_type": "stream",
     "text": [
      "Evaluating model: llama3.2-11b-vision\n"
     ]
    },
    {
     "name": "stderr",
     "output_type": "stream",
     "text": [
      "international_phonetic_alphabet_transliterate: 100%|██████████| 50/50 [01:09<00:00,  1.39s/it]\n"
     ]
    },
    {
     "name": "stdout",
     "output_type": "stream",
     "text": [
      "Evaluating model: llama3.2-3b\n"
     ]
    },
    {
     "name": "stderr",
     "output_type": "stream",
     "text": [
      "international_phonetic_alphabet_transliterate: 100%|██████████| 50/50 [01:16<00:00,  1.53s/it]\n"
     ]
    },
    {
     "name": "stdout",
     "output_type": "stream",
     "text": [
      "Evaluating model: llama3.2-1b\n"
     ]
    },
    {
     "name": "stderr",
     "output_type": "stream",
     "text": [
      "international_phonetic_alphabet_transliterate: 100%|██████████| 50/50 [00:54<00:00,  1.10s/it]\n"
     ]
    }
   ],
   "source": [
    "model_variants = [\n",
    "    'llama3.2-90b-vision',\n",
    "    'llama3.2-11b-vision',\n",
    "    'llama3.2-3b',\n",
    "    'llama3.2-1b',\n",
    "    # 'mixtral-8x22b-instruct',\n",
    "    # 'mixtral-8x7b-instruct',\n",
    "    # 'mistral-7b-instruct',\n",
    "    # 'llama3.1-405b',\n",
    "    # 'llama3.1-70b',\n",
    "    # 'llama3.1-8b\n",
    "]\n",
    "\n",
    "task_json_path = '/Users/shawna_song/Desktop/598tz_proj/BIG-bench/bigbench/benchmark_tasks/international_phonetic_alphabet_transliterate/task.json'\n",
    "\n",
    "all_results = {}\n",
    "for model in model_variants:\n",
    "    print(f\"Evaluating model: {model}\")\n",
    "    all_results[model] = []\n",
    "    if os.path.isdir(task_path) and os.path.exists(task_json_path):\n",
    "        with open(task_json_path, 'r') as f:\n",
    "            bigbench_dataset = json.load(f)\n",
    "        # print(f\"Dataset structure for {task_name}:\", json.dumps(bigbench_dataset, indent=2))\n",
    "        # Evaluate each model variant and store results\n",
    "        all_results[model] += evaluate_model(model, bigbench_dataset)"
   ]
  },
  {
   "cell_type": "code",
   "execution_count": null,
   "metadata": {},
   "outputs": [],
   "source": [
    "# Print the results for analysis\n",
    "for model, results in all_results.items():\n",
    "    print(f\"\\nResults for {model}:\")\n",
    "    for result in results:\n",
    "        print(f\"Prompt: {result['prompt']}\")\n",
    "        print(f\"Generated: {result['generated_text']}\")\n",
    "        print(f\"Target: {result['target']}\\n\")"
   ]
  },
  {
   "cell_type": "code",
   "execution_count": 86,
   "metadata": {},
   "outputs": [
    {
     "name": "stdout",
     "output_type": "stream",
     "text": [
      "BLEU for llama3.2-90b-vision: 46.91%\n",
      "BLEU for llama3.2-11b-vision: 9.67%\n",
      "BLEU for llama3.2-3b: 9.79%\n",
      "BLEU for llama3.2-1b: 2.92%\n"
     ]
    }
   ],
   "source": [
    "from nltk.translate.bleu_score import sentence_bleu\n",
    "\n",
    "def calculate_bleu(results):\n",
    "    total_bleu = 0\n",
    "    total_count = len(results)\n",
    "\n",
    "    for result in results:\n",
    "        reference = [result['target'].split()]\n",
    "        candidate = result['generated_text'].split()\n",
    "        bleu_score = sentence_bleu(reference, candidate)\n",
    "        total_bleu += bleu_score\n",
    "\n",
    "    average_bleu = (total_bleu / total_count) * 100 if total_count > 0 else 0\n",
    "    return average_bleu\n",
    "\n",
    "# Calculate and print accuracy for each model\n",
    "for model, results in all_results.items():\n",
    "    accuracy = calculate_bleu(results)\n",
    "    print(f\"BLEU for {model}: {accuracy:.2f}%\")"
   ]
  },
  {
   "cell_type": "code",
   "execution_count": 36,
   "metadata": {},
   "outputs": [
    {
     "data": {
      "image/png": "[encoded data removed]",
      "text/plain": [
       "<Figure size 640x480 with 1 Axes>"
      ]
     },
     "metadata": {},
     "output_type": "display_data"
    }
   ],
   "source": [
    "import matplotlib.pyplot as plt\n",
    "import numpy as np\n",
    "from matplotlib.ticker import LogFormatter, LogLocator\n",
    "\n",
    "x = np.array([1, 3, 11, 90]) \n",
    "y = [0.0292, 0.0979, 0.0967, 0.4691]\n",
    "\n",
    "plt.plot(x, y, marker='o', linestyle='-')\n",
    "plt.xscale('log')\n",
    "plt.gca().xaxis.set_major_formatter(LogFormatter(base=10.0, labelOnlyBase=True))\n",
    "plt.gca().xaxis.set_minor_locator(LogLocator(base=10.0, subs=np.arange(2, 10) * 0.1, numticks=10))\n",
    "plt.title(\"IPA Transliterate\")\n",
    "plt.xlabel(\"Parameter (billion)\")\n",
    "plt.ylabel(\"BLEU\")\n",
    "plt.show()"
   ]
  },
  {
   "cell_type": "code",
   "execution_count": 87,
   "metadata": {},
   "outputs": [
    {
     "name": "stdout",
     "output_type": "stream",
     "text": [
      "Evaluating model: mixtral-8x22b-instruct\n"
     ]
    },
    {
     "name": "stderr",
     "output_type": "stream",
     "text": [
      "international_phonetic_alphabet_transliterate: 100%|██████████| 50/50 [01:59<00:00,  2.38s/it]\n"
     ]
    },
    {
     "name": "stdout",
     "output_type": "stream",
     "text": [
      "Evaluating model: mixtral-8x7b-instruct\n"
     ]
    },
    {
     "name": "stderr",
     "output_type": "stream",
     "text": [
      "international_phonetic_alphabet_transliterate: 100%|██████████| 50/50 [01:03<00:00,  1.26s/it]\n"
     ]
    },
    {
     "name": "stdout",
     "output_type": "stream",
     "text": [
      "Evaluating model: mistral-7b-instruct\n"
     ]
    },
    {
     "name": "stderr",
     "output_type": "stream",
     "text": [
      "international_phonetic_alphabet_transliterate:  10%|█         | 5/50 [00:08<01:09,  1.54s/it]"
     ]
    },
    {
     "name": "stdout",
     "output_type": "stream",
     "text": [
      "Error occurred for model mistral-7b-instruct: Error code: 400 - {'detail': 'Failed to process your request. Please try again later. If you are processing a function, try using a larger model (70b) for better function formatting.'}\n"
     ]
    },
    {
     "name": "stderr",
     "output_type": "stream",
     "text": [
      "international_phonetic_alphabet_transliterate: 100%|██████████| 50/50 [01:27<00:00,  1.74s/it]"
     ]
    },
    {
     "name": "stdout",
     "output_type": "stream",
     "text": [
      "BLEU for mixtral-8x22b-instruct: 33.43%\n",
      "BLEU for mixtral-8x7b-instruct: 5.41%\n",
      "BLEU for mistral-7b-instruct: 4.51%\n"
     ]
    },
    {
     "name": "stderr",
     "output_type": "stream",
     "text": [
      "\n"
     ]
    }
   ],
   "source": [
    "model_variants = [\n",
    "    'mixtral-8x22b-instruct',\n",
    "    'mixtral-8x7b-instruct',\n",
    "    'mistral-7b-instruct',\n",
    "]\n",
    "\n",
    "task_json_path = '/Users/shawna_song/Desktop/598tz_proj/BIG-bench/bigbench/benchmark_tasks/international_phonetic_alphabet_transliterate/task.json'\n",
    "\n",
    "all_results = {}\n",
    "for model in model_variants:\n",
    "    print(f\"Evaluating model: {model}\")\n",
    "    all_results[model] = []\n",
    "    if os.path.isdir(task_path) and os.path.exists(task_json_path):\n",
    "        with open(task_json_path, 'r') as f:\n",
    "            bigbench_dataset = json.load(f)\n",
    "        # print(f\"Dataset structure for {task_name}:\", json.dumps(bigbench_dataset, indent=2))\n",
    "        # Evaluate each model variant and store results\n",
    "        all_results[model] += evaluate_model(model, bigbench_dataset)\n",
    "        \n",
    "for model, results in all_results.items():\n",
    "    accuracy = calculate_bleu(results)\n",
    "    print(f\"BLEU for {model}: {accuracy:.2f}%\")"
   ]
  },
  {
   "cell_type": "markdown",
   "metadata": {},
   "source": [
    "### Testing on word_unscrambling"
   ]
  },
  {
   "cell_type": "code",
   "execution_count": null,
   "metadata": {},
   "outputs": [],
   "source": [
    "model_variants = [\n",
    "    'llama3.2-90b-vision',\n",
    "    'llama3.2-11b-vision',\n",
    "    'llama3.2-3b',\n",
    "    'llama3.2-1b',\n",
    "    # 'mixtral-8x22b-instruct',\n",
    "    # 'mixtral-8x7b-instruct',\n",
    "    # 'mistral-7b-instruct',\n",
    "]\n",
    "\n",
    "task_json_path = '/Users/shawna_song/Desktop/598tz_proj/BIG-bench/bigbench/benchmark_tasks/word_unscrambling/task.json'\n",
    "\n",
    "all_results = {}\n",
    "for model in model_variants:\n",
    "    print(f\"Evaluating model: {model}\")\n",
    "    all_results[model] = []\n",
    "    if os.path.isdir(task_path) and os.path.exists(task_json_path):\n",
    "        with open(task_json_path, 'r') as f:\n",
    "            bigbench_dataset = json.load(f)\n",
    "        # print(f\"Dataset structure for {task_name}:\", json.dumps(bigbench_dataset, indent=2))\n",
    "        # Evaluate each model variant and store results\n",
    "        all_results[model] += evaluate_model(model, bigbench_dataset, 200)"
   ]
  },
  {
   "cell_type": "code",
   "execution_count": null,
   "metadata": {},
   "outputs": [],
   "source": [
    "# Print the results for analysis\n",
    "for model, results in all_results.items():\n",
    "    print(f\"\\nResults for {model}:\")\n",
    "    for result in results:\n",
    "        print(f\"Prompt: {result['prompt']}\")\n",
    "        print(f\"Generated: {result['generated_text']}\")\n",
    "        print(f\"Target: {result['target']}\\n\")"
   ]
  },
  {
   "cell_type": "code",
   "execution_count": 100,
   "metadata": {},
   "outputs": [
    {
     "name": "stdout",
     "output_type": "stream",
     "text": [
      "Accuracy for llama3.2-90b-vision: 41.00%\n",
      "Accuracy for llama3.2-11b-vision: 25.50%\n",
      "Accuracy for llama3.2-3b: 11.50%\n",
      "Accuracy for llama3.2-1b: 7.50%\n",
      "Accuracy for mixtral-8x22b-instruct: 21.50%\n",
      "Accuracy for mixtral-8x7b-instruct: 0.00%\n"
     ]
    }
   ],
   "source": [
    "def calculate_accuracy(results):\n",
    "    correct_count = 0\n",
    "    total_count = len(results)\n",
    "\n",
    "    for result in results:\n",
    "        # if result['prompt'] + \" \" + result['target'] in result['generated_text']:\n",
    "        #     correct_count += 1\n",
    "        # elif result['target'] == result['generated_text']:\n",
    "        #     correct_count += 1\n",
    "        # print(result)\n",
    "        if isinstance(result['target'] , list):\n",
    "            for target_word in result['target']:\n",
    "                if target_word in result['generated_text']: \n",
    "                    correct_count += 1\n",
    "                    break\n",
    "        else:\n",
    "            if result['target'] in result['generated_text']:\n",
    "                correct_count += 1\n",
    "\n",
    "    accuracy = (correct_count / total_count) * 100 if total_count > 0 else 0\n",
    "    return accuracy\n",
    "\n",
    "for model, results in all_results.items():\n",
    "    accuracy = calculate_accuracy(results)\n",
    "    print(f\"Accuracy for {model}: {accuracy:.2f}%\")"
   ]
  },
  {
   "cell_type": "code",
   "execution_count": 32,
   "metadata": {},
   "outputs": [
    {
     "data": {
      "image/png": "[encoded data removed]",
      "text/plain": [
       "<Figure size 640x480 with 1 Axes>"
      ]
     },
     "metadata": {},
     "output_type": "display_data"
    }
   ],
   "source": [
    "import matplotlib.pyplot as plt\n",
    "import numpy as np\n",
    "from matplotlib.ticker import LogFormatter, LogLocator\n",
    "\n",
    "x = np.array([1, 3, 11, 90]) \n",
    "y = [0.075, 0.115, 0.255, 0.41]\n",
    "\n",
    "plt.plot(x, y, marker='o', linestyle='-')\n",
    "plt.xscale('log')\n",
    "plt.gca().xaxis.set_major_formatter(LogFormatter(base=10.0, labelOnlyBase=True))\n",
    "plt.gca().xaxis.set_minor_locator(LogLocator(base=10.0, subs=np.arange(2, 10) * 0.1, numticks=10))\n",
    "plt.title(\"Word Unscrambling\")\n",
    "plt.xlabel(\"Parameter (billion)\")\n",
    "plt.ylabel(\"Accuracy\")\n",
    "plt.show()"
   ]
  },
  {
   "cell_type": "markdown",
   "metadata": {},
   "source": [
    "### Testing onc parsinlu_qa"
   ]
  },
  {
   "cell_type": "code",
   "execution_count": 117,
   "metadata": {},
   "outputs": [
    {
     "name": "stdout",
     "output_type": "stream",
     "text": [
      "Evaluating model: llama3.2-90b-vision\n"
     ]
    },
    {
     "name": "stderr",
     "output_type": "stream",
     "text": [
      "parsinlu_qa: 100%|██████████| 200/200 [07:25<00:00,  2.23s/it]\n"
     ]
    },
    {
     "name": "stdout",
     "output_type": "stream",
     "text": [
      "Evaluating model: llama3.2-11b-vision\n"
     ]
    },
    {
     "name": "stderr",
     "output_type": "stream",
     "text": [
      "parsinlu_qa: 100%|██████████| 200/200 [04:41<00:00,  1.41s/it]\n"
     ]
    },
    {
     "name": "stdout",
     "output_type": "stream",
     "text": [
      "Evaluating model: llama3.2-3b\n"
     ]
    },
    {
     "name": "stderr",
     "output_type": "stream",
     "text": [
      "parsinlu_qa: 100%|██████████| 200/200 [04:25<00:00,  1.33s/it]\n"
     ]
    },
    {
     "name": "stdout",
     "output_type": "stream",
     "text": [
      "Evaluating model: llama3.2-1b\n"
     ]
    },
    {
     "name": "stderr",
     "output_type": "stream",
     "text": [
      "parsinlu_qa: 100%|██████████| 200/200 [04:20<00:00,  1.30s/it]\n"
     ]
    },
    {
     "name": "stdout",
     "output_type": "stream",
     "text": [
      "Evaluating model: mixtral-8x22b-instruct\n"
     ]
    },
    {
     "name": "stderr",
     "output_type": "stream",
     "text": [
      "parsinlu_qa: 100%|██████████| 200/200 [09:10<00:00,  2.75s/it]\n"
     ]
    },
    {
     "name": "stdout",
     "output_type": "stream",
     "text": [
      "Evaluating model: mixtral-8x7b-instruct\n"
     ]
    },
    {
     "name": "stderr",
     "output_type": "stream",
     "text": [
      "parsinlu_qa:  34%|███▍      | 69/200 [01:26<03:01,  1.38s/it]"
     ]
    },
    {
     "name": "stdout",
     "output_type": "stream",
     "text": [
      "Error occurred for model mixtral-8x7b-instruct: 'ChatCompletion' object is not subscriptable\n",
      "Error occurred for model mixtral-8x7b-instruct: 'ChatCompletion' object is not subscriptable\n"
     ]
    },
    {
     "name": "stderr",
     "output_type": "stream",
     "text": [
      "parsinlu_qa:  39%|███▉      | 78/200 [01:44<02:43,  1.34s/it]"
     ]
    },
    {
     "name": "stdout",
     "output_type": "stream",
     "text": [
      "Error occurred for model mixtral-8x7b-instruct: 'ChatCompletion' object is not subscriptable\n",
      "Error occurred for model mixtral-8x7b-instruct: 'ChatCompletion' object is not subscriptable\n",
      "Error occurred for model mixtral-8x7b-instruct: 'ChatCompletion' object is not subscriptable\n"
     ]
    },
    {
     "name": "stderr",
     "output_type": "stream",
     "text": [
      "parsinlu_qa:  40%|███▉      | 79/200 [01:54<07:59,  3.97s/it]"
     ]
    },
    {
     "name": "stdout",
     "output_type": "stream",
     "text": [
      "Failed to get response after 3 attempts for prompt: علت عمده شکست جنبش مشروطه چه بود؟ choose from: مخالفت قدرت‌های غربی با نظام جدید,نارضایتی مردم از فقر و بیچارگی,کنار رفتن روحانیت از صحنه سیاست,هر سه مورد\n"
     ]
    },
    {
     "name": "stderr",
     "output_type": "stream",
     "text": [
      "parsinlu_qa:  40%|████      | 81/200 [01:56<05:06,  2.58s/it]"
     ]
    },
    {
     "name": "stdout",
     "output_type": "stream",
     "text": [
      "Error occurred for model mixtral-8x7b-instruct: 'ChatCompletion' object is not subscriptable\n",
      "Error occurred for model mixtral-8x7b-instruct: 'ChatCompletion' object is not subscriptable\n"
     ]
    },
    {
     "name": "stderr",
     "output_type": "stream",
     "text": [
      "parsinlu_qa:  41%|████      | 82/200 [02:04<08:07,  4.13s/it]"
     ]
    },
    {
     "name": "stdout",
     "output_type": "stream",
     "text": [
      "Error occurred for model mixtral-8x7b-instruct: 'ChatCompletion' object is not subscriptable\n",
      "Error occurred for model mixtral-8x7b-instruct: 'ChatCompletion' object is not subscriptable\n",
      "Error occurred for model mixtral-8x7b-instruct: 'ChatCompletion' object is not subscriptable\n"
     ]
    },
    {
     "name": "stderr",
     "output_type": "stream",
     "text": [
      "parsinlu_qa:  42%|████▏     | 83/200 [02:14<11:08,  5.72s/it]"
     ]
    },
    {
     "name": "stdout",
     "output_type": "stream",
     "text": [
      "Failed to get response after 3 attempts for prompt: یک بشکه پر از بنزین است نصف آن خالی می‌شود. چند درصد گنجایش شبکه بنزین ندارد؟ choose from: ۶۶/۶ درصد,۳۳/۳ درصد,۵۰ درصد,هیچ کدام\n",
      "Error occurred for model mixtral-8x7b-instruct: 'ChatCompletion' object is not subscriptable\n",
      "Error occurred for model mixtral-8x7b-instruct: 'ChatCompletion' object is not subscriptable\n",
      "Error occurred for model mixtral-8x7b-instruct: 'ChatCompletion' object is not subscriptable\n"
     ]
    },
    {
     "name": "stderr",
     "output_type": "stream",
     "text": [
      "parsinlu_qa:  42%|████▏     | 84/200 [02:24<13:29,  6.98s/it]"
     ]
    },
    {
     "name": "stdout",
     "output_type": "stream",
     "text": [
      "Failed to get response after 3 attempts for prompt: وسیع‌ترین دریاچه جهان در کدام قاره قرار دارد؟ choose from: آمریکا,اروپا,آسیا,آفریقا\n",
      "Error occurred for model mixtral-8x7b-instruct: 'ChatCompletion' object is not subscriptable\n",
      "Error occurred for model mixtral-8x7b-instruct: 'ChatCompletion' object is not subscriptable\n",
      "Error occurred for model mixtral-8x7b-instruct: 'ChatCompletion' object is not subscriptable\n"
     ]
    },
    {
     "name": "stderr",
     "output_type": "stream",
     "text": [
      "parsinlu_qa:  42%|████▎     | 85/200 [02:33<14:50,  7.74s/it]"
     ]
    },
    {
     "name": "stdout",
     "output_type": "stream",
     "text": [
      "Failed to get response after 3 attempts for prompt: کدام عدد بعد از این سری باید بیاید؟ 25 - 24 - 22 - 19 - 15 - ؟ choose from: 10,9,11,\n",
      "Error occurred for model mixtral-8x7b-instruct: 'ChatCompletion' object is not subscriptable\n",
      "Error occurred for model mixtral-8x7b-instruct: 'ChatCompletion' object is not subscriptable\n",
      "Error occurred for model mixtral-8x7b-instruct: 'ChatCompletion' object is not subscriptable\n"
     ]
    },
    {
     "name": "stderr",
     "output_type": "stream",
     "text": [
      "parsinlu_qa:  43%|████▎     | 86/200 [02:43<15:46,  8.31s/it]"
     ]
    },
    {
     "name": "stdout",
     "output_type": "stream",
     "text": [
      "Failed to get response after 3 attempts for prompt: موتورسواری با سرعت متوسط ۶۰ کیلومتر در ساعت فاصله بین دو شهر را طی می‌کند و همین فاصله را با\n",
      "سرعت متوسط ۴۰ کیلومتر در ساعت برمی گردد. سرعت متوسط او برای تمام مسیر رفت و برگشت عبارت\n",
      " choose from: ۵۳ کیلومتر در ساعت,۵۰ کیلومتر در ساعت,۴۸ کیلومتر در ساعت,۵۲ کیلومتر در ساعت\n",
      "Error occurred for model mixtral-8x7b-instruct: 'ChatCompletion' object is not subscriptable\n",
      "Error occurred for model mixtral-8x7b-instruct: 'ChatCompletion' object is not subscriptable\n"
     ]
    },
    {
     "name": "stderr",
     "output_type": "stream",
     "text": [
      "parsinlu_qa:  51%|█████     | 102/200 [03:25<03:46,  2.32s/it]"
     ]
    },
    {
     "name": "stdout",
     "output_type": "stream",
     "text": [
      "Error occurred for model mixtral-8x7b-instruct: 'ChatCompletion' object is not subscriptable\n"
     ]
    },
    {
     "name": "stderr",
     "output_type": "stream",
     "text": [
      "parsinlu_qa:  52%|█████▏    | 103/200 [03:32<05:32,  3.43s/it]"
     ]
    },
    {
     "name": "stdout",
     "output_type": "stream",
     "text": [
      "Error occurred for model mixtral-8x7b-instruct: 'ChatCompletion' object is not subscriptable\n"
     ]
    },
    {
     "name": "stderr",
     "output_type": "stream",
     "text": [
      "parsinlu_qa:  52%|█████▎    | 105/200 [03:40<05:47,  3.66s/it]"
     ]
    },
    {
     "name": "stdout",
     "output_type": "stream",
     "text": [
      "Error occurred for model mixtral-8x7b-instruct: 'ChatCompletion' object is not subscriptable\n"
     ]
    },
    {
     "name": "stderr",
     "output_type": "stream",
     "text": [
      "parsinlu_qa: 100%|██████████| 200/200 [07:19<00:00,  2.20s/it]\n"
     ]
    },
    {
     "name": "stdout",
     "output_type": "stream",
     "text": [
      "Evaluating model: mistral-7b-instruct\n"
     ]
    },
    {
     "name": "stderr",
     "output_type": "stream",
     "text": [
      "parsinlu_qa: 100%|██████████| 200/200 [06:17<00:00,  1.89s/it]\n"
     ]
    }
   ],
   "source": [
    "model_variants = [\n",
    "    'llama3.2-90b-vision',\n",
    "    'llama3.2-11b-vision',\n",
    "    'llama3.2-3b',\n",
    "    'llama3.2-1b',\n",
    "    'mixtral-8x22b-instruct',\n",
    "    'mixtral-8x7b-instruct',\n",
    "    'mistral-7b-instruct',\n",
    "]\n",
    "def evaluate_model(model_name, dataset, num_exp=50):\n",
    "    # print(f\"Evaluating model: {model_name}\")\n",
    "    results = []\n",
    "    if 'examples' not in dataset:\n",
    "        raise KeyError(\"The dataset does not contain the expected 'examples' key.\")\n",
    "    examples = random.sample(dataset['examples'], min(num_exp, len(dataset['examples'])))\n",
    "    for example in tqdm(examples, desc=f\"{dataset['name']}\"):\n",
    "        choices = list(example['target_scores'].keys())\n",
    "        prompt = example['input'] + \" choose from: \" + ','.join(choices)\n",
    "        target = example['target_scores']\n",
    "\n",
    "        retry_count = 0\n",
    "        while retry_count < 3:\n",
    "            try:\n",
    "                # Generate response using OpenAI client\n",
    "                response = client.chat.completions.create(\n",
    "                    model=model_name,\n",
    "                    messages=[\n",
    "                        {\n",
    "                            \"role\": \"system\",\n",
    "                            \"content\": \"Assistant is a large language model trained by OpenAI.\"\n",
    "                        },\n",
    "                        {\n",
    "                            \"role\": \"user\",\n",
    "                            \"content\": prompt,\n",
    "                        }\n",
    "                    ]\n",
    "                )\n",
    "                # print(response)\n",
    "                try: \n",
    "                    generated_text = response.choices[0].message.content.strip()\n",
    "                except:\n",
    "                    generated_text = response[0]['message']['content'].strip() if isinstance(response, list) else response['choices'][0]['message']['content'].strip()\n",
    "                # Store prompt, generated response, and target for analysis\n",
    "                results.append({\n",
    "                    'prompt': prompt,\n",
    "                    'generated_text': generated_text,\n",
    "                    'target': target\n",
    "                })\n",
    "                break\n",
    "            except Exception as e:\n",
    "                print(f\"Error occurred for model {model_name}: {e}\")\n",
    "                retry_count += 1\n",
    "                time.sleep(2)  # Wait before retrying\n",
    "                if retry_count == 3:\n",
    "                    print(f\"Failed to get response after 3 attempts for prompt: {prompt}\")\n",
    "    return results\n",
    "\n",
    "task_json_path = '/Users/shawna_song/Desktop/598tz_proj/BIG-bench/bigbench/benchmark_tasks/parsinlu_qa/task.json'\n",
    "\n",
    "all_results = {}\n",
    "for model in model_variants:\n",
    "    print(f\"Evaluating model: {model}\")\n",
    "    all_results[model] = []\n",
    "    if os.path.isdir(task_path) and os.path.exists(task_json_path):\n",
    "        with open(task_json_path, 'r') as f:\n",
    "            bigbench_dataset = json.load(f)\n",
    "        # print(f\"Dataset structure for {task_name}:\", json.dumps(bigbench_dataset, indent=2))\n",
    "        # Evaluate each model variant and store results\n",
    "        all_results[model] += evaluate_model(model, bigbench_dataset, 200)"
   ]
  },
  {
   "cell_type": "code",
   "execution_count": null,
   "metadata": {},
   "outputs": [],
   "source": [
    "# Print the results for analysis\n",
    "for model, results in all_results.items():\n",
    "    print(f\"\\nResults for {model}:\")\n",
    "    for result in results:\n",
    "        print(f\"Prompt: {result['prompt']}\")\n",
    "        print(f\"Generated: {result['generated_text']}\")\n",
    "        print(f\"Target: {result['target']}\\n\")"
   ]
  },
  {
   "cell_type": "code",
   "execution_count": 118,
   "metadata": {},
   "outputs": [
    {
     "name": "stdout",
     "output_type": "stream",
     "text": [
      "Accuracy for llama3.2-90b-vision: 13.00%\n",
      "Accuracy for llama3.2-11b-vision: 17.00%\n",
      "Accuracy for llama3.2-3b: 17.00%\n",
      "Accuracy for llama3.2-1b: 10.50%\n",
      "Accuracy for mixtral-8x22b-instruct: 30.00%\n",
      "Accuracy for mixtral-8x7b-instruct: 36.41%\n",
      "Accuracy for mistral-7b-instruct: 32.50%\n"
     ]
    }
   ],
   "source": [
    "def calculate_accuracy(results):\n",
    "    correct_count = 0\n",
    "    total_count = len(results)\n",
    "\n",
    "    for result in results:\n",
    "        for choice in result['target'].keys():\n",
    "            if result['target'][choice] == 1:\n",
    "                if str(result['target'][choice]) in result['generated_text']:\n",
    "                    correct_count += 1\n",
    "\n",
    "    accuracy = (correct_count / total_count) * 100 if total_count > 0 else 0\n",
    "    return accuracy\n",
    "\n",
    "for model, results in all_results.items():\n",
    "    accuracy = calculate_accuracy(results)\n",
    "    print(f\"Accuracy for {model}: {accuracy:.2f}%\")"
   ]
  },
  {
   "cell_type": "code",
   "execution_count": 35,
   "metadata": {},
   "outputs": [
    {
     "data": {
      "image/png": "[encoded data removed]",
      "text/plain": [
       "<Figure size 640x480 with 1 Axes>"
      ]
     },
     "metadata": {},
     "output_type": "display_data"
    }
   ],
   "source": [
    "import matplotlib.pyplot as plt\n",
    "import numpy as np\n",
    "from matplotlib.ticker import LogFormatter, LogLocator\n",
    "\n",
    "x = np.array([1, 3, 11, 90]) \n",
    "y = [0.105, 0.17, 0.17, 0.13]\n",
    "\n",
    "plt.plot(x, y, marker='o', linestyle='-')\n",
    "plt.xscale('log')\n",
    "plt.gca().xaxis.set_major_formatter(LogFormatter(base=10.0, labelOnlyBase=True))\n",
    "plt.gca().xaxis.set_minor_locator(LogLocator(base=10.0, subs=np.arange(2, 10) * 0.1, numticks=10))\n",
    "plt.title(\"Parsinlu QA\")\n",
    "plt.xlabel(\"Parameter (billion)\")\n",
    "plt.ylabel(\"Accuracy\")\n",
    "plt.show()"
   ]
  }
 ],
 "metadata": {
  "colab": {
   "provenance": []
  },
  "kernelspec": {
   "display_name": "Python 3",
   "name": "python3"
  },
  "language_info": {
   "codemirror_mode": {
    "name": "ipython",
    "version": 3
   },
   "file_extension": ".py",
   "mimetype": "text/x-python",
   "name": "python",
   "nbconvert_exporter": "python",
   "pygments_lexer": "ipython3",
   "version": "3.11.4"
  },
  "widgets": {
   "application/vnd.jupyter.widget-state+json": {
    "1a14c026523f4e6ba7b91135fe43b0b1": {
     "model_module": "@jupyter-widgets/base",
     "model_module_version": "1.2.0",
     "model_name": "LayoutModel",
     "state": {
      "_model_module": "@jupyter-widgets/base",
      "_model_module_version": "1.2.0",
      "_model_name": "LayoutModel",
      "_view_count": null,
      "_view_module": "@jupyter-widgets/base",
      "_view_module_version": "1.2.0",
      "_view_name": "LayoutView",
      "align_content": null,
      "align_items": null,
      "align_self": null,
      "border": null,
      "bottom": null,
      "display": null,
      "flex": null,
      "flex_flow": null,
      "grid_area": null,
      "grid_auto_columns": null,
      "grid_auto_flow": null,
      "grid_auto_rows": null,
      "grid_column": null,
      "grid_gap": null,
      "grid_row": null,
      "grid_template_areas": null,
      "grid_template_columns": null,
      "grid_template_rows": null,
      "height": null,
      "justify_content": null,
      "justify_items": null,
      "left": null,
      "margin": null,
      "max_height": null,
      "max_width": null,
      "min_height": null,
      "min_width": null,
      "object_fit": null,
      "object_position": null,
      "order": null,
      "overflow": null,
      "overflow_x": null,
      "overflow_y": null,
      "padding": null,
      "right": null,
      "top": null,
      "visibility": null,
      "width": null
     }
    },
    "2e1173b585f54b59a024d9c47fd30e38": {
     "model_module": "@jupyter-widgets/base",
     "model_module_version": "1.2.0",
     "model_name": "LayoutModel",
     "state": {
      "_model_module": "@jupyter-widgets/base",
      "_model_module_version": "1.2.0",
      "_model_name": "LayoutModel",
      "_view_count": null,
      "_view_module": "@jupyter-widgets/base",
      "_view_module_version": "1.2.0",
      "_view_name": "LayoutView",
      "align_content": null,
      "align_items": null,
      "align_self": null,
      "border": null,
      "bottom": null,
      "display": null,
      "flex": null,
      "flex_flow": null,
      "grid_area": null,
      "grid_auto_columns": null,
      "grid_auto_flow": null,
      "grid_auto_rows": null,
      "grid_column": null,
      "grid_gap": null,
      "grid_row": null,
      "grid_template_areas": null,
      "grid_template_columns": null,
      "grid_template_rows": null,
      "height": null,
      "justify_content": null,
      "justify_items": null,
      "left": null,
      "margin": null,
      "max_height": null,
      "max_width": null,
      "min_height": null,
      "min_width": null,
      "object_fit": null,
      "object_position": null,
      "order": null,
      "overflow": null,
      "overflow_x": null,
      "overflow_y": null,
      "padding": null,
      "right": null,
      "top": null,
      "visibility": null,
      "width": null
     }
    },
    "313b49e087114566ab658774b05cba8d": {
     "model_module": "@jupyter-widgets/controls",
     "model_module_version": "1.5.0",
     "model_name": "DescriptionStyleModel",
     "state": {
      "_model_module": "@jupyter-widgets/controls",
      "_model_module_version": "1.5.0",
      "_model_name": "DescriptionStyleModel",
      "_view_count": null,
      "_view_module": "@jupyter-widgets/base",
      "_view_module_version": "1.2.0",
      "_view_name": "StyleView",
      "description_width": ""
     }
    },
    "4608ff76b8294c8aa1747a4385becf42": {
     "model_module": "@jupyter-widgets/controls",
     "model_module_version": "1.5.0",
     "model_name": "HBoxModel",
     "state": {
      "_dom_classes": [],
      "_model_module": "@jupyter-widgets/controls",
      "_model_module_version": "1.5.0",
      "_model_name": "HBoxModel",
      "_view_count": null,
      "_view_module": "@jupyter-widgets/controls",
      "_view_module_version": "1.5.0",
      "_view_name": "HBoxView",
      "box_style": "",
      "children": [
       "IPY_MODEL_c3dea8ab4f4540d28e50fd7ec489ee0a",
       "IPY_MODEL_8275678891744552b7917b8cce0d58e3",
       "IPY_MODEL_ac8f0f9253eb4844aa7a00ca40f76c75"
      ],
      "layout": "IPY_MODEL_1a14c026523f4e6ba7b91135fe43b0b1"
     }
    },
    "476e4c21aa3f460199b31c76e02e8524": {
     "model_module": "@jupyter-widgets/controls",
     "model_module_version": "1.5.0",
     "model_name": "DescriptionStyleModel",
     "state": {
      "_model_module": "@jupyter-widgets/controls",
      "_model_module_version": "1.5.0",
      "_model_name": "DescriptionStyleModel",
      "_view_count": null,
      "_view_module": "@jupyter-widgets/base",
      "_view_module_version": "1.2.0",
      "_view_name": "StyleView",
      "description_width": ""
     }
    },
    "53f1391cefcf4da28e3a95206cfa4e59": {
     "model_module": "@jupyter-widgets/base",
     "model_module_version": "1.2.0",
     "model_name": "LayoutModel",
     "state": {
      "_model_module": "@jupyter-widgets/base",
      "_model_module_version": "1.2.0",
      "_model_name": "LayoutModel",
      "_view_count": null,
      "_view_module": "@jupyter-widgets/base",
      "_view_module_version": "1.2.0",
      "_view_name": "LayoutView",
      "align_content": null,
      "align_items": null,
      "align_self": null,
      "border": null,
      "bottom": null,
      "display": null,
      "flex": null,
      "flex_flow": null,
      "grid_area": null,
      "grid_auto_columns": null,
      "grid_auto_flow": null,
      "grid_auto_rows": null,
      "grid_column": null,
      "grid_gap": null,
      "grid_row": null,
      "grid_template_areas": null,
      "grid_template_columns": null,
      "grid_template_rows": null,
      "height": null,
      "justify_content": null,
      "justify_items": null,
      "left": null,
      "margin": null,
      "max_height": null,
      "max_width": null,
      "min_height": null,
      "min_width": null,
      "object_fit": null,
      "object_position": null,
      "order": null,
      "overflow": null,
      "overflow_x": null,
      "overflow_y": null,
      "padding": null,
      "right": null,
      "top": null,
      "visibility": null,
      "width": null
     }
    },
    "5a65c84ad06f411a8fb0325ce8e83256": {
     "model_module": "@jupyter-widgets/base",
     "model_module_version": "1.2.0",
     "model_name": "LayoutModel",
     "state": {
      "_model_module": "@jupyter-widgets/base",
      "_model_module_version": "1.2.0",
      "_model_name": "LayoutModel",
      "_view_count": null,
      "_view_module": "@jupyter-widgets/base",
      "_view_module_version": "1.2.0",
      "_view_name": "LayoutView",
      "align_content": null,
      "align_items": null,
      "align_self": null,
      "border": null,
      "bottom": null,
      "display": null,
      "flex": null,
      "flex_flow": null,
      "grid_area": null,
      "grid_auto_columns": null,
      "grid_auto_flow": null,
      "grid_auto_rows": null,
      "grid_column": null,
      "grid_gap": null,
      "grid_row": null,
      "grid_template_areas": null,
      "grid_template_columns": null,
      "grid_template_rows": null,
      "height": null,
      "justify_content": null,
      "justify_items": null,
      "left": null,
      "margin": null,
      "max_height": null,
      "max_width": null,
      "min_height": null,
      "min_width": null,
      "object_fit": null,
      "object_position": null,
      "order": null,
      "overflow": null,
      "overflow_x": null,
      "overflow_y": null,
      "padding": null,
      "right": null,
      "top": null,
      "visibility": null,
      "width": null
     }
    },
    "5cbf008c7505444e923d94ff27152af8": {
     "model_module": "@jupyter-widgets/controls",
     "model_module_version": "1.5.0",
     "model_name": "HTMLModel",
     "state": {
      "_dom_classes": [],
      "_model_module": "@jupyter-widgets/controls",
      "_model_module_version": "1.5.0",
      "_model_name": "HTMLModel",
      "_view_count": null,
      "_view_module": "@jupyter-widgets/controls",
      "_view_module_version": "1.5.0",
      "_view_name": "HTMLView",
      "description": "",
      "description_tooltip": null,
      "layout": "IPY_MODEL_da3e5bb8576a4611b91b6a49c11ddc8e",
      "placeholder": "​",
      "style": "IPY_MODEL_476e4c21aa3f460199b31c76e02e8524",
      "value": "bigbench.py: 100%"
     }
    },
    "6090fe228045484e8c3d11fca882ec15": {
     "model_module": "@jupyter-widgets/base",
     "model_module_version": "1.2.0",
     "model_name": "LayoutModel",
     "state": {
      "_model_module": "@jupyter-widgets/base",
      "_model_module_version": "1.2.0",
      "_model_name": "LayoutModel",
      "_view_count": null,
      "_view_module": "@jupyter-widgets/base",
      "_view_module_version": "1.2.0",
      "_view_name": "LayoutView",
      "align_content": null,
      "align_items": null,
      "align_self": null,
      "border": null,
      "bottom": null,
      "display": null,
      "flex": null,
      "flex_flow": null,
      "grid_area": null,
      "grid_auto_columns": null,
      "grid_auto_flow": null,
      "grid_auto_rows": null,
      "grid_column": null,
      "grid_gap": null,
      "grid_row": null,
      "grid_template_areas": null,
      "grid_template_columns": null,
      "grid_template_rows": null,
      "height": null,
      "justify_content": null,
      "justify_items": null,
      "left": null,
      "margin": null,
      "max_height": null,
      "max_width": null,
      "min_height": null,
      "min_width": null,
      "object_fit": null,
      "object_position": null,
      "order": null,
      "overflow": null,
      "overflow_x": null,
      "overflow_y": null,
      "padding": null,
      "right": null,
      "top": null,
      "visibility": null,
      "width": null
     }
    },
    "6091956ed9af444f8f2231ccbb7f5451": {
     "model_module": "@jupyter-widgets/controls",
     "model_module_version": "1.5.0",
     "model_name": "ProgressStyleModel",
     "state": {
      "_model_module": "@jupyter-widgets/controls",
      "_model_module_version": "1.5.0",
      "_model_name": "ProgressStyleModel",
      "_view_count": null,
      "_view_module": "@jupyter-widgets/base",
      "_view_module_version": "1.2.0",
      "_view_name": "StyleView",
      "bar_color": null,
      "description_width": ""
     }
    },
    "8275678891744552b7917b8cce0d58e3": {
     "model_module": "@jupyter-widgets/controls",
     "model_module_version": "1.5.0",
     "model_name": "FloatProgressModel",
     "state": {
      "_dom_classes": [],
      "_model_module": "@jupyter-widgets/controls",
      "_model_module_version": "1.5.0",
      "_model_name": "FloatProgressModel",
      "_view_count": null,
      "_view_module": "@jupyter-widgets/controls",
      "_view_module_version": "1.5.0",
      "_view_name": "ProgressView",
      "bar_style": "success",
      "description": "",
      "description_tooltip": null,
      "layout": "IPY_MODEL_9be81528f8d945a5abdc01e1e2ba0d28",
      "max": 99758,
      "min": 0,
      "orientation": "horizontal",
      "style": "IPY_MODEL_6091956ed9af444f8f2231ccbb7f5451",
      "value": 99758
     }
    },
    "90b72b6fbbd24b0da903aa523a2a11aa": {
     "model_module": "@jupyter-widgets/controls",
     "model_module_version": "1.5.0",
     "model_name": "DescriptionStyleModel",
     "state": {
      "_model_module": "@jupyter-widgets/controls",
      "_model_module_version": "1.5.0",
      "_model_name": "DescriptionStyleModel",
      "_view_count": null,
      "_view_module": "@jupyter-widgets/base",
      "_view_module_version": "1.2.0",
      "_view_name": "StyleView",
      "description_width": ""
     }
    },
    "9be81528f8d945a5abdc01e1e2ba0d28": {
     "model_module": "@jupyter-widgets/base",
     "model_module_version": "1.2.0",
     "model_name": "LayoutModel",
     "state": {
      "_model_module": "@jupyter-widgets/base",
      "_model_module_version": "1.2.0",
      "_model_name": "LayoutModel",
      "_view_count": null,
      "_view_module": "@jupyter-widgets/base",
      "_view_module_version": "1.2.0",
      "_view_name": "LayoutView",
      "align_content": null,
      "align_items": null,
      "align_self": null,
      "border": null,
      "bottom": null,
      "display": null,
      "flex": null,
      "flex_flow": null,
      "grid_area": null,
      "grid_auto_columns": null,
      "grid_auto_flow": null,
      "grid_auto_rows": null,
      "grid_column": null,
      "grid_gap": null,
      "grid_row": null,
      "grid_template_areas": null,
      "grid_template_columns": null,
      "grid_template_rows": null,
      "height": null,
      "justify_content": null,
      "justify_items": null,
      "left": null,
      "margin": null,
      "max_height": null,
      "max_width": null,
      "min_height": null,
      "min_width": null,
      "object_fit": null,
      "object_position": null,
      "order": null,
      "overflow": null,
      "overflow_x": null,
      "overflow_y": null,
      "padding": null,
      "right": null,
      "top": null,
      "visibility": null,
      "width": null
     }
    },
    "9c4e87551fe641abbf7314e3a6a81863": {
     "model_module": "@jupyter-widgets/controls",
     "model_module_version": "1.5.0",
     "model_name": "ProgressStyleModel",
     "state": {
      "_model_module": "@jupyter-widgets/controls",
      "_model_module_version": "1.5.0",
      "_model_name": "ProgressStyleModel",
      "_view_count": null,
      "_view_module": "@jupyter-widgets/base",
      "_view_module_version": "1.2.0",
      "_view_name": "StyleView",
      "bar_color": null,
      "description_width": ""
     }
    },
    "9c7ad4e07a3e4702ad5e1b57d0043fbc": {
     "model_module": "@jupyter-widgets/controls",
     "model_module_version": "1.5.0",
     "model_name": "HBoxModel",
     "state": {
      "_dom_classes": [],
      "_model_module": "@jupyter-widgets/controls",
      "_model_module_version": "1.5.0",
      "_model_name": "HBoxModel",
      "_view_count": null,
      "_view_module": "@jupyter-widgets/controls",
      "_view_module_version": "1.5.0",
      "_view_name": "HBoxView",
      "box_style": "",
      "children": [
       "IPY_MODEL_5cbf008c7505444e923d94ff27152af8",
       "IPY_MODEL_cc43de1f58b94635af481ff686c7b738",
       "IPY_MODEL_da8881982cfd4bf3b2944760812ca1f2"
      ],
      "layout": "IPY_MODEL_6090fe228045484e8c3d11fca882ec15"
     }
    },
    "ac8f0f9253eb4844aa7a00ca40f76c75": {
     "model_module": "@jupyter-widgets/controls",
     "model_module_version": "1.5.0",
     "model_name": "HTMLModel",
     "state": {
      "_dom_classes": [],
      "_model_module": "@jupyter-widgets/controls",
      "_model_module_version": "1.5.0",
      "_model_name": "HTMLModel",
      "_view_count": null,
      "_view_module": "@jupyter-widgets/controls",
      "_view_module_version": "1.5.0",
      "_view_name": "HTMLView",
      "description": "",
      "description_tooltip": null,
      "layout": "IPY_MODEL_2e1173b585f54b59a024d9c47fd30e38",
      "placeholder": "​",
      "style": "IPY_MODEL_313b49e087114566ab658774b05cba8d",
      "value": " 99.8k/99.8k [00:00&lt;00:00, 574kB/s]"
     }
    },
    "c3dea8ab4f4540d28e50fd7ec489ee0a": {
     "model_module": "@jupyter-widgets/controls",
     "model_module_version": "1.5.0",
     "model_name": "HTMLModel",
     "state": {
      "_dom_classes": [],
      "_model_module": "@jupyter-widgets/controls",
      "_model_module_version": "1.5.0",
      "_model_name": "HTMLModel",
      "_view_count": null,
      "_view_module": "@jupyter-widgets/controls",
      "_view_module_version": "1.5.0",
      "_view_name": "HTMLView",
      "description": "",
      "description_tooltip": null,
      "layout": "IPY_MODEL_5a65c84ad06f411a8fb0325ce8e83256",
      "placeholder": "​",
      "style": "IPY_MODEL_90b72b6fbbd24b0da903aa523a2a11aa",
      "value": "README.md: 100%"
     }
    },
    "cc43de1f58b94635af481ff686c7b738": {
     "model_module": "@jupyter-widgets/controls",
     "model_module_version": "1.5.0",
     "model_name": "FloatProgressModel",
     "state": {
      "_dom_classes": [],
      "_model_module": "@jupyter-widgets/controls",
      "_model_module_version": "1.5.0",
      "_model_name": "FloatProgressModel",
      "_view_count": null,
      "_view_module": "@jupyter-widgets/controls",
      "_view_module_version": "1.5.0",
      "_view_name": "ProgressView",
      "bar_style": "success",
      "description": "",
      "description_tooltip": null,
      "layout": "IPY_MODEL_cf985524bd95426ab65a1031249e7c97",
      "max": 20544,
      "min": 0,
      "orientation": "horizontal",
      "style": "IPY_MODEL_9c4e87551fe641abbf7314e3a6a81863",
      "value": 20544
     }
    },
    "cf985524bd95426ab65a1031249e7c97": {
     "model_module": "@jupyter-widgets/base",
     "model_module_version": "1.2.0",
     "model_name": "LayoutModel",
     "state": {
      "_model_module": "@jupyter-widgets/base",
      "_model_module_version": "1.2.0",
      "_model_name": "LayoutModel",
      "_view_count": null,
      "_view_module": "@jupyter-widgets/base",
      "_view_module_version": "1.2.0",
      "_view_name": "LayoutView",
      "align_content": null,
      "align_items": null,
      "align_self": null,
      "border": null,
      "bottom": null,
      "display": null,
      "flex": null,
      "flex_flow": null,
      "grid_area": null,
      "grid_auto_columns": null,
      "grid_auto_flow": null,
      "grid_auto_rows": null,
      "grid_column": null,
      "grid_gap": null,
      "grid_row": null,
      "grid_template_areas": null,
      "grid_template_columns": null,
      "grid_template_rows": null,
      "height": null,
      "justify_content": null,
      "justify_items": null,
      "left": null,
      "margin": null,
      "max_height": null,
      "max_width": null,
      "min_height": null,
      "min_width": null,
      "object_fit": null,
      "object_position": null,
      "order": null,
      "overflow": null,
      "overflow_x": null,
      "overflow_y": null,
      "padding": null,
      "right": null,
      "top": null,
      "visibility": null,
      "width": null
     }
    },
    "da3e5bb8576a4611b91b6a49c11ddc8e": {
     "model_module": "@jupyter-widgets/base",
     "model_module_version": "1.2.0",
     "model_name": "LayoutModel",
     "state": {
      "_model_module": "@jupyter-widgets/base",
      "_model_module_version": "1.2.0",
      "_model_name": "LayoutModel",
      "_view_count": null,
      "_view_module": "@jupyter-widgets/base",
      "_view_module_version": "1.2.0",
      "_view_name": "LayoutView",
      "align_content": null,
      "align_items": null,
      "align_self": null,
      "border": null,
      "bottom": null,
      "display": null,
      "flex": null,
      "flex_flow": null,
      "grid_area": null,
      "grid_auto_columns": null,
      "grid_auto_flow": null,
      "grid_auto_rows": null,
      "grid_column": null,
      "grid_gap": null,
      "grid_row": null,
      "grid_template_areas": null,
      "grid_template_columns": null,
      "grid_template_rows": null,
      "height": null,
      "justify_content": null,
      "justify_items": null,
      "left": null,
      "margin": null,
      "max_height": null,
      "max_width": null,
      "min_height": null,
      "min_width": null,
      "object_fit": null,
      "object_position": null,
      "order": null,
      "overflow": null,
      "overflow_x": null,
      "overflow_y": null,
      "padding": null,
      "right": null,
      "top": null,
      "visibility": null,
      "width": null
     }
    },
    "da8881982cfd4bf3b2944760812ca1f2": {
     "model_module": "@jupyter-widgets/controls",
     "model_module_version": "1.5.0",
     "model_name": "HTMLModel",
     "state": {
      "_dom_classes": [],
      "_model_module": "@jupyter-widgets/controls",
      "_model_module_version": "1.5.0",
      "_model_name": "HTMLModel",
      "_view_count": null,
      "_view_module": "@jupyter-widgets/controls",
      "_view_module_version": "1.5.0",
      "_view_name": "HTMLView",
      "description": "",
      "description_tooltip": null,
      "layout": "IPY_MODEL_53f1391cefcf4da28e3a95206cfa4e59",
      "placeholder": "​",
      "style": "IPY_MODEL_f0b2eeecdb2a48d6943cabac50db434d",
      "value": " 20.5k/20.5k [00:00&lt;00:00, 1.01MB/s]"
     }
    },
    "f0b2eeecdb2a48d6943cabac50db434d": {
     "model_module": "@jupyter-widgets/controls",
     "model_module_version": "1.5.0",
     "model_name": "DescriptionStyleModel",
     "state": {
      "_model_module": "@jupyter-widgets/controls",
      "_model_module_version": "1.5.0",
      "_model_name": "DescriptionStyleModel",
      "_view_count": null,
      "_view_module": "@jupyter-widgets/base",
      "_view_module_version": "1.2.0",
      "_view_name": "StyleView",
      "description_width": ""
     }
    }
   }
  }
 },
 "nbformat": 4,
 "nbformat_minor": 0
}
